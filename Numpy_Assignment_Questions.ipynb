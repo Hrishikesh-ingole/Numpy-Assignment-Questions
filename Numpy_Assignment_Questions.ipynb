{
 "cells": [
  {
   "cell_type": "code",
   "execution_count": 3,
   "id": "ee6d4643-5fd2-4209-92c1-0df707728325",
   "metadata": {},
   "outputs": [],
   "source": [
    "import numpy as np"
   ]
  },
  {
   "cell_type": "raw",
   "id": "1efa10b2-1b64-4574-89df-4fa3367d3b66",
   "metadata": {},
   "source": [
    "#1. What is a Python library? Why do we use Python libraries?\n",
    "\n",
    "A Python library is a collection of pre-written code that provides functions, classes, and modules to perform specific tasks. These libraries can be utilized to add functionality to your programs without having to write the code from scratch. Python libraries help developers save time and effort by providing reusable and optimized code for common tasks."
   ]
  },
  {
   "cell_type": "raw",
   "id": "ff6a7aff-557d-463a-b1fa-095d7979c2e9",
   "metadata": {},
   "source": [
    "#2. What is the difference between Numpy array and List?\n",
    "- The Array is homegenious in nature / List is Heterogenious in nature\n",
    "- Array stores element at contigious memory location/ List stores address of elements and that too at discret memory location.\n",
    "- Array as stores Homogenious data and at contigious memory location its faster as compare to List\n",
    "- Array can be multidimetional / List can only be 1d"
   ]
  },
  {
   "cell_type": "raw",
   "id": "3f4e2122-c434-4ade-a363-0c077a74dc0e",
   "metadata": {},
   "source": [
    "3. Find the shape, size and dimension of the following array?\n",
    "[[1, 2, 3, 4],\n",
    "[5, 6, 7, 8],\n",
    "[9, 10, 11, 12]]"
   ]
  },
  {
   "cell_type": "code",
   "execution_count": 28,
   "id": "c006a296-ce17-4e1b-b177-5ce269f001ee",
   "metadata": {},
   "outputs": [
    {
     "name": "stdout",
     "output_type": "stream",
     "text": [
      "arr - \n",
      "[[ 1  2  3  4]\n",
      " [ 5  6  7  8]\n",
      " [ 9 10 11 12]]\n",
      "-------------\n",
      "shape - \n",
      "(3, 4)\n",
      "-------------\n",
      "size - \n",
      "12\n",
      "-------------\n",
      "dimension - \n",
      "2\n"
     ]
    }
   ],
   "source": [
    "arr = np.array([[1, 2, 3, 4],\n",
    "[5, 6, 7, 8],\n",
    "[9, 10, 11, 12]])\n",
    "\n",
    "print('arr - ')\n",
    "print(arr)\n",
    "\n",
    "print('-------------')\n",
    "\n",
    "print('shape - ')\n",
    "print(arr.shape)\n",
    "\n",
    "print('-------------')\n",
    "\n",
    "print('size - ')\n",
    "print(arr.size)\n",
    "\n",
    "print('-------------')\n",
    "\n",
    "print('dimension - ')\n",
    "print(arr.ndim)"
   ]
  },
  {
   "cell_type": "raw",
   "id": "aefad2bc-b7c4-463b-a64d-d6bd207c4e4b",
   "metadata": {},
   "source": [
    "4. Write python code to access the first row of the following array?\n",
    "[[1, 2, 3, 4],\n",
    "[5, 6, 7, 8],\n",
    "[9, 10, 11, 12]]"
   ]
  },
  {
   "cell_type": "code",
   "execution_count": 29,
   "id": "a8bd95cb-07de-46ac-9aea-fd1b0d9f0f87",
   "metadata": {},
   "outputs": [
    {
     "name": "stdout",
     "output_type": "stream",
     "text": [
      "First row of an array\n"
     ]
    },
    {
     "data": {
      "text/plain": [
       "array([5, 6, 7, 8])"
      ]
     },
     "execution_count": 29,
     "metadata": {},
     "output_type": "execute_result"
    }
   ],
   "source": [
    "print('First row of an array')\n",
    "arr[1]"
   ]
  },
  {
   "cell_type": "raw",
   "id": "a7e45d7f-f93e-4e9f-9493-f2f8f5e1fa0f",
   "metadata": {},
   "source": [
    "5. How do you access the element at the third row and fourth column from the given numpy array?\n",
    "[[1, 2, 3, 4],\n",
    "[5, 6, 7, 8],\n",
    "[9, 10, 11, 12]]"
   ]
  },
  {
   "cell_type": "code",
   "execution_count": 32,
   "id": "205acd30-9612-4df1-a5c7-3e6865ca9187",
   "metadata": {},
   "outputs": [
    {
     "data": {
      "text/plain": [
       "12"
      ]
     },
     "execution_count": 32,
     "metadata": {},
     "output_type": "execute_result"
    }
   ],
   "source": [
    "arr[2][3]"
   ]
  },
  {
   "cell_type": "raw",
   "id": "387f405f-1ba7-466d-b1ea-09b669163e97",
   "metadata": {},
   "source": [
    "6. Write code to extract all odd-indexed elements from the given numpy array?\n",
    "[[1, 2, 3, 4],\n",
    "[5, 6, 7, 8],\n",
    "[9, 10, 11, 12]]"
   ]
  },
  {
   "cell_type": "code",
   "execution_count": 67,
   "id": "c141ca61-a132-4acf-8b72-d232fa007cc1",
   "metadata": {},
   "outputs": [],
   "source": [
    "l = [[1, 2, 3, 4],\n",
    "[5, 6, 7, 8],\n",
    "[9, 10, 11, 12]]"
   ]
  },
  {
   "cell_type": "code",
   "execution_count": 133,
   "id": "4fdb0371-1e9c-4cb8-a452-e0d7867dfb02",
   "metadata": {},
   "outputs": [],
   "source": [
    "def ExtractOdd(arr):\n",
    "    for i in range(len(arr)):\n",
    "        for j in range(len(arr)+1):\n",
    "            if j %2!=0:\n",
    "                print(arr[i][j], end=',')\n",
    "            \n"
   ]
  },
  {
   "cell_type": "code",
   "execution_count": 134,
   "id": "f9d52e29-7fb5-42e5-ba8d-566b6e657ebf",
   "metadata": {},
   "outputs": [
    {
     "name": "stdout",
     "output_type": "stream",
     "text": [
      "2,4,6,8,10,12,"
     ]
    }
   ],
   "source": [
    "ExtractOdd(arr)"
   ]
  },
  {
   "cell_type": "code",
   "execution_count": 162,
   "id": "5720ed5e-a143-407c-9321-f89157aae77f",
   "metadata": {},
   "outputs": [
    {
     "data": {
      "text/plain": [
       "array([[ 2,  4],\n",
       "       [ 6,  8],\n",
       "       [10, 12]])"
      ]
     },
     "execution_count": 162,
     "metadata": {},
     "output_type": "execute_result"
    }
   ],
   "source": [
    "arr[0:3,[1,3]]"
   ]
  },
  {
   "cell_type": "code",
   "execution_count": 177,
   "id": "8db1cdfb-c0ca-475a-adf1-ff926d0c288a",
   "metadata": {},
   "outputs": [
    {
     "data": {
      "text/plain": [
       "array([[1, 1, 0],\n",
       "       [1, 0, 1],\n",
       "       [0, 0, 1]])"
      ]
     },
     "execution_count": 177,
     "metadata": {},
     "output_type": "execute_result"
    }
   ],
   "source": [
    "#7. How can you generate a random 3x3 matrix with values between 0 and 1?\n",
    "\n",
    "np.random.randint(0,2, (3,3))"
   ]
  },
  {
   "cell_type": "raw",
   "id": "f8e207b6-195d-4e05-a9b5-0a470f0053fc",
   "metadata": {},
   "source": [
    "8. Describe the difference between np.random.rand and np.random.randn?\n",
    "\n",
    "np.random.rand() # gives the vlaue between 0 & 1, including 0, we can give shape to the function to get arr of requored share.\n",
    "np.random.randn() # gives the value of normal distribution, we can give shape to the function to get arr of requored share."
   ]
  },
  {
   "cell_type": "raw",
   "id": "79787c1c-4f6f-4ba7-ad20-29b4c421a929",
   "metadata": {},
   "source": [
    "9. Write code to increase the dimension of the following array?\n",
    "[[1, 2, 3, 4],\n",
    "[5, 6, 7, 8],\n",
    "[9, 10, 11, 12]]"
   ]
  },
  {
   "cell_type": "code",
   "execution_count": 227,
   "id": "f0eed691-b907-486c-9858-4ebeffcbb33a",
   "metadata": {},
   "outputs": [],
   "source": [
    "arr = np.array([[1, 2, 3, 4], [5, 6, 7, 8], [9, 10, 11, 12]])\n"
   ]
  },
  {
   "cell_type": "code",
   "execution_count": 228,
   "id": "592f2b7e-9b48-412e-a993-c39ab8c2e5ec",
   "metadata": {},
   "outputs": [
    {
     "data": {
      "text/plain": [
       "array([[[ 1,  2,  3,  4],\n",
       "        [ 5,  6,  7,  8],\n",
       "        [ 9, 10, 11, 12]]])"
      ]
     },
     "execution_count": 228,
     "metadata": {},
     "output_type": "execute_result"
    }
   ],
   "source": [
    "np.expand_dims(arr, axis = 0)"
   ]
  },
  {
   "cell_type": "raw",
   "id": "a92c3446-3725-4a0f-a94f-6714c1c2496b",
   "metadata": {},
   "source": [
    "10. How to transpose the following array in NumPy?\n",
    "[[1, 2, 3, 4],\n",
    "[5, 6, 7, 8],\n",
    "[9, 10, 11, 12]]"
   ]
  },
  {
   "cell_type": "code",
   "execution_count": 229,
   "id": "91278a48-1bd0-43fd-a28c-7401b64ac073",
   "metadata": {},
   "outputs": [
    {
     "data": {
      "text/plain": [
       "array([[ 1,  5,  9],\n",
       "       [ 2,  6, 10],\n",
       "       [ 3,  7, 11],\n",
       "       [ 4,  8, 12]])"
      ]
     },
     "execution_count": 229,
     "metadata": {},
     "output_type": "execute_result"
    }
   ],
   "source": [
    "arr.T"
   ]
  },
  {
   "cell_type": "raw",
   "id": "d18094ad-469f-46ff-92e7-23c1a266c9e6",
   "metadata": {},
   "source": [
    "11. Consider the following matrix:\n",
    "Matrix A2 [[1, 2, 3, 4] [5, 6, 7, 8],[9, 10, 11, 12]]\n",
    "Matrix B2 [[1, 2, 3, 4] [5, 6, 7, 8],[9, 10, 11, 12]]"
   ]
  },
  {
   "cell_type": "code",
   "execution_count": 230,
   "id": "e2c8ba1f-c227-4513-a023-833ac052ece8",
   "metadata": {},
   "outputs": [],
   "source": [
    "matrixA2 = np.array([[1, 2, 3, 4], [5, 6, 7, 8],[9, 10, 11, 12]])\n",
    "matrixB2 = np.array([[1, 2, 3, 4], [5, 6, 7, 8],[9, 10, 11, 12]])"
   ]
  },
  {
   "cell_type": "code",
   "execution_count": 231,
   "id": "d2f1c1ed-f6c3-484b-8548-b15bde282dcb",
   "metadata": {},
   "outputs": [
    {
     "data": {
      "text/plain": [
       "array([[ 1,  2,  3,  4],\n",
       "       [ 5,  6,  7,  8],\n",
       "       [ 9, 10, 11, 12]])"
      ]
     },
     "execution_count": 231,
     "metadata": {},
     "output_type": "execute_result"
    }
   ],
   "source": [
    "matrixA2"
   ]
  },
  {
   "cell_type": "code",
   "execution_count": 232,
   "id": "a625c5b2-a80c-4d51-91b7-278c9fa2d5c0",
   "metadata": {},
   "outputs": [
    {
     "data": {
      "text/plain": [
       "array([[ 1,  2,  3,  4],\n",
       "       [ 5,  6,  7,  8],\n",
       "       [ 9, 10, 11, 12]])"
      ]
     },
     "execution_count": 232,
     "metadata": {},
     "output_type": "execute_result"
    }
   ],
   "source": [
    "matrixB2"
   ]
  },
  {
   "cell_type": "code",
   "execution_count": 233,
   "id": "a59bbb98-5220-4391-b9ac-79eb5e39dc9d",
   "metadata": {},
   "outputs": [
    {
     "data": {
      "text/plain": [
       "array([[  1,   4,   9,  16],\n",
       "       [ 25,  36,  49,  64],\n",
       "       [ 81, 100, 121, 144]])"
      ]
     },
     "execution_count": 233,
     "metadata": {},
     "output_type": "execute_result"
    }
   ],
   "source": [
    "#1. Index wise multiplication\n",
    "\n",
    "\n",
    "matrixA2 * matrixB2"
   ]
  },
  {
   "cell_type": "code",
   "execution_count": 234,
   "id": "932d196f-55a9-429f-9452-b4c739a3d3c8",
   "metadata": {},
   "outputs": [
    {
     "data": {
      "text/plain": [
       "array([[ 70,  80,  90],\n",
       "       [158, 184, 210],\n",
       "       [246, 288, 330]])"
      ]
     },
     "execution_count": 234,
     "metadata": {},
     "output_type": "execute_result"
    }
   ],
   "source": [
    "# Matrix multiplication\n",
    "\n",
    "matrixB3 = matrixB2.reshape(4,3)\n",
    "matrixA2 @ matrixB3"
   ]
  },
  {
   "cell_type": "code",
   "execution_count": 235,
   "id": "87a531bb-4726-4faa-bd67-b42edce91dc8",
   "metadata": {},
   "outputs": [
    {
     "data": {
      "text/plain": [
       "array([[ 2,  4,  6,  8],\n",
       "       [10, 12, 14, 16],\n",
       "       [18, 20, 22, 24]])"
      ]
     },
     "execution_count": 235,
     "metadata": {},
     "output_type": "execute_result"
    }
   ],
   "source": [
    "# Add both the maticx\n",
    "\n",
    "matrixA2 + matrixB2\n"
   ]
  },
  {
   "cell_type": "code",
   "execution_count": 236,
   "id": "b216d920-9e8c-4fb4-aaa2-bd5528668967",
   "metadata": {},
   "outputs": [
    {
     "data": {
      "text/plain": [
       "array([[0, 0, 0, 0],\n",
       "       [0, 0, 0, 0],\n",
       "       [0, 0, 0, 0]])"
      ]
     },
     "execution_count": 236,
     "metadata": {},
     "output_type": "execute_result"
    }
   ],
   "source": [
    "#Subtact matix B from matrix A\n",
    "\n",
    "matrixB2 - matrixA2"
   ]
  },
  {
   "cell_type": "code",
   "execution_count": 237,
   "id": "6f27b75a-5b1b-4511-b5ff-8f61486ec30a",
   "metadata": {},
   "outputs": [
    {
     "data": {
      "text/plain": [
       "array([[1., 1., 1., 1.],\n",
       "       [1., 1., 1., 1.],\n",
       "       [1., 1., 1., 1.]])"
      ]
     },
     "execution_count": 237,
     "metadata": {},
     "output_type": "execute_result"
    }
   ],
   "source": [
    "#Divide matrix B by A\n",
    "\n",
    "matrixB2 / matrixA2"
   ]
  },
  {
   "cell_type": "code",
   "execution_count": 244,
   "id": "805804a3-55f5-4a15-93f7-436e340cdcec",
   "metadata": {},
   "outputs": [
    {
     "name": "stdout",
     "output_type": "stream",
     "text": [
      "Before - \n",
      "[[ 1  2  3  4]\n",
      " [ 5  6  7  8]\n",
      " [ 9 10 11 12]]\n",
      "\n",
      "After byt swap - \n"
     ]
    },
    {
     "data": {
      "text/plain": [
       "array([[ 16777216,  33554432,  50331648,  67108864],\n",
       "       [ 83886080, 100663296, 117440512, 134217728],\n",
       "       [150994944, 167772160, 184549376, 201326592]])"
      ]
     },
     "execution_count": 244,
     "metadata": {},
     "output_type": "execute_result"
    }
   ],
   "source": [
    "#12. Which function in Numpy can be used to swap the byte order of an array?\n",
    "\n",
    "print('Before - ')\n",
    "print(arr)\n",
    "\n",
    "print()\n",
    "print('After byt swap - ')\n",
    "arr2 = arr.byteswap()\n",
    "arr2"
   ]
  },
  {
   "cell_type": "raw",
   "id": "672c2743-d695-489f-893d-ab2a7a69def9",
   "metadata": {},
   "source": [
    "#13. What is the significance of the np.linalg.inv function?\n",
    "\n",
    " np.linalg.inv  - Gives the inverse of square matrix, it can be used for manual matrix multiplication to get the inverse of matrix."
   ]
  },
  {
   "cell_type": "raw",
   "id": "2bcaaa8b-5272-43ef-a72c-41fd6f694855",
   "metadata": {},
   "source": [
    "#14. What does the np.reshape function do, and how is it used?\n",
    "\n",
    "np.reshape - this helps to reshape or restructure the rows and collumns of a matrix.\n",
    "eg- arr.reshape(m,n), product of m and n should always be equal to number of elements in original array."
   ]
  },
  {
   "cell_type": "raw",
   "id": "9ff95ad6-4142-4f38-94b6-eef1e817bff2",
   "metadata": {},
   "source": [
    "#15. What is broadcasting in Numpy?\n",
    "- Broadcasting is the method to apply the mathemaatical opeartion on an complete array or matrix at a time. It enables you to perform element-wise operations on arrays of different shapes without explicitly reshaping or copying the data."
   ]
  },
  {
   "cell_type": "code",
   "execution_count": null,
   "id": "2042d0f8-98e5-470a-81c5-169a7af79360",
   "metadata": {},
   "outputs": [],
   "source": []
  }
 ],
 "metadata": {
  "kernelspec": {
   "display_name": "Python 3 (ipykernel)",
   "language": "python",
   "name": "python3"
  },
  "language_info": {
   "codemirror_mode": {
    "name": "ipython",
    "version": 3
   },
   "file_extension": ".py",
   "mimetype": "text/x-python",
   "name": "python",
   "nbconvert_exporter": "python",
   "pygments_lexer": "ipython3",
   "version": "3.11.5"
  }
 },
 "nbformat": 4,
 "nbformat_minor": 5
}
